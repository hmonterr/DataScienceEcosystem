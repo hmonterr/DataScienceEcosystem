{
 "cells": [
  {
   "cell_type": "markdown",
   "id": "07edac6a-a12f-420e-9545-066f5e64f3d7",
   "metadata": {},
   "source": [
    "# Data Science Tools and Ecosystem"
   ]
  },
  {
   "cell_type": "markdown",
   "id": "dcb55959-ad5d-4f0c-9872-25f687e6e3a2",
   "metadata": {},
   "source": [
    "In this notebook, Data Science Tools and Ecosystem are summarized."
   ]
  },
  {
   "cell_type": "markdown",
   "id": "e2d6f6b2-c10a-4128-96e2-f522d1131d50",
   "metadata": {},
   "source": [
    "**Objectives:**\n",
    "- List of popular languages for Data Science\n",
    "- List of popular libraries for Data Science\n",
    "- Table of popular tools for Data Science"
   ]
  },
  {
   "cell_type": "markdown",
   "id": "f5fe2a77-4cf0-47f4-9ecf-fa8c006d03e0",
   "metadata": {},
   "source": [
    "Some of the popular languages that Data Scientists use are: <br>\n",
    "1. Python\n",
    "2. JavaScript\n",
    "3. R."
   ]
  },
  {
   "cell_type": "markdown",
   "id": "a1409dcf-0703-401c-81a4-61a01466be8c",
   "metadata": {},
   "source": [
    "Some of the commonly used libraries used by Data Scientists include:\n",
    "1. TensorFlow\n",
    "2. NumPy\n",
    "3. Scipy"
   ]
  },
  {
   "cell_type": "markdown",
   "id": "91a7bc64-c891-410a-a472-d7cb3d8cd222",
   "metadata": {},
   "source": [
    "| Data Science Tools|\n",
    "---\n",
    "|Tableu|\n",
    "|Hadoop|\n",
    "|Spark|"
   ]
  },
  {
   "cell_type": "markdown",
   "id": "6ebd2ae8-a3c2-4004-83b0-9e3dca87245d",
   "metadata": {},
   "source": [
    "### Below are a few examples of evaluating arithmetic expressions in Python"
   ]
  },
  {
   "cell_type": "code",
   "execution_count": 3,
   "id": "b00977c7-0d20-4381-afa3-220c7cf2e128",
   "metadata": {},
   "outputs": [
    {
     "data": {
      "text/plain": [
       "17"
      ]
     },
     "execution_count": 3,
     "metadata": {},
     "output_type": "execute_result"
    }
   ],
   "source": [
    "(3*4)+5 #This a simple arithmetic expression to mutiply then add integers"
   ]
  },
  {
   "cell_type": "code",
   "execution_count": 10,
   "id": "5b3f3a0a-71dc-4ead-ae3d-6ede9c4f005f",
   "metadata": {},
   "outputs": [
    {
     "name": "stdout",
     "output_type": "stream",
     "text": [
      "3.33 hours\n"
     ]
    }
   ],
   "source": [
    "#This will convert 200 minutes to hours by diving by 60\n",
    "hours=(200 / 60)\n",
    "print(\"%.2f\" % hours+\" hours\")"
   ]
  },
  {
   "cell_type": "markdown",
   "id": "5b07e12c-940e-45a1-9457-c8d6f62296f6",
   "metadata": {},
   "source": [
    "## Author\n",
    "Hugo Monterrosa\n"
   ]
  },
  {
   "cell_type": "code",
   "execution_count": null,
   "id": "ce1573b1-368a-4f1a-b5b4-8d8fbf6fd7fd",
   "metadata": {},
   "outputs": [],
   "source": []
  }
 ],
 "metadata": {
  "kernelspec": {
   "display_name": "Python",
   "language": "python",
   "name": "conda-env-python-py"
  },
  "language_info": {
   "codemirror_mode": {
    "name": "ipython",
    "version": 3
   },
   "file_extension": ".py",
   "mimetype": "text/x-python",
   "name": "python",
   "nbconvert_exporter": "python",
   "pygments_lexer": "ipython3",
   "version": "3.7.12"
  }
 },
 "nbformat": 4,
 "nbformat_minor": 5
}
